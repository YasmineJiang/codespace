{
  "nbformat": 4,
  "nbformat_minor": 0,
  "metadata": {
    "colab": {
      "provenance": [],
      "authorship_tag": "ABX9TyPBOCb4PiLFiIkxKbq9PKrv",
      "include_colab_link": true
    },
    "kernelspec": {
      "name": "python3",
      "display_name": "Python 3"
    },
    "language_info": {
      "name": "python"
    }
  },
  "cells": [
    {
      "cell_type": "markdown",
      "metadata": {
        "id": "view-in-github",
        "colab_type": "text"
      },
      "source": [
        "<a href=\"https://colab.research.google.com/github/YasmineJiang/codespace/blob/main/Explore_PCA_with_Yale_Face_dataset.ipynb\" target=\"_parent\"><img src=\"https://colab.research.google.com/assets/colab-badge.svg\" alt=\"Open In Colab\"/></a>"
      ]
    },
    {
      "cell_type": "code",
      "execution_count": 1,
      "metadata": {
        "id": "dhbGoakAJ56q"
      },
      "outputs": [],
      "source": [
        "from scipy.linalg import eigh\n",
        "import numpy as np\n",
        "import matplotlib.pyplot as plt"
      ]
    },
    {
      "cell_type": "code",
      "source": [
        "def load_and_center_dataset(filename):\n",
        "    x = np.load(filename)\n",
        "    x_center = x - np.mean(x, axis=0)\n",
        "    return x_center"
      ],
      "metadata": {
        "id": "_71p19bWKIma"
      },
      "execution_count": 2,
      "outputs": []
    },
    {
      "cell_type": "code",
      "source": [
        "def get_covariance(dataset):\n",
        "    x = dataset\n",
        "    x_T = np.transpose(x)\n",
        "    S = 1/(len(x) - 1) * np.dot(x_T, x)\n",
        "    return S"
      ],
      "metadata": {
        "id": "U6Ay3DxxKI1z"
      },
      "execution_count": 3,
      "outputs": []
    },
    {
      "cell_type": "code",
      "source": [
        "def get_eig(S, m):\n",
        "\n",
        "    #Calculate eigenvalues and eigenvectors\n",
        "    eigenvalues, eigenvectors = eigh(S)\n",
        "\n",
        "    #Sort eigenvalues in dscending order and put eigenvectors in corresponding order\n",
        "    sorted_indices = np.argsort(eigenvalues)[::-1]\n",
        "    eigenvalues = eigenvalues[sorted_indices]\n",
        "    eigenvectors = eigenvectors[:, sorted_indices]\n",
        "\n",
        "    #Select the m-largest eigenvalues\n",
        "    mlargest_eigenvalues = eigenvalues[:m]\n",
        "    m_eigenvectors = eigenvectors[:, :m]\n",
        "    diagonal_matrix = np.diag(mlargest_eigenvalues)\n",
        "\n",
        "    return diagonal_matrix, m_eigenvectors"
      ],
      "metadata": {
        "id": "DJVm85dVKI-7"
      },
      "execution_count": 4,
      "outputs": []
    },
    {
      "cell_type": "code",
      "source": [
        "def get_eig_prop(S, prop):\n",
        "\n",
        "    #Calculate eigenvalues and eigenvectors\n",
        "    eigenvalues, eigenvectors = eigh(S)\n",
        "\n",
        "    #Sort eigenvalues in dscending order and put eigenvectors in corresponding order\n",
        "    sorted_indices = np.argsort(eigenvalues)[::-1]\n",
        "    eigenvalues = eigenvalues[sorted_indices]\n",
        "    eigenvectors = eigenvectors[:, sorted_indices]\n",
        "\n",
        "    total_lambda = 0\n",
        "    lis = []\n",
        "    for i in eigenvalues:\n",
        "         total_lambda = total_lambda + i\n",
        "\n",
        "    for j in eigenvalues:\n",
        "        if j/total_lambda > prop:\n",
        "            lis.append(j)\n",
        "    mlargest_eigenvalues = eigenvalues[:len(lis)]\n",
        "    diagonal_matrix = np.diag(mlargest_eigenvalues)\n",
        "    m_eigenvectors = eigenvectors[:, :len(lis)]\n",
        "\n",
        "    return diagonal_matrix,  m_eigenvectors"
      ],
      "metadata": {
        "id": "f5ULCy2KKJCu"
      },
      "execution_count": 5,
      "outputs": []
    },
    {
      "cell_type": "code",
      "source": [
        "def project_image(image, U):\n",
        "\n",
        "    U_transpose = np.transpose(U)\n",
        "    pca_projection = np.dot(U_transpose, image)\n",
        "    x_pca = np.dot(U, pca_projection)\n",
        "\n",
        "    return x_pca"
      ],
      "metadata": {
        "id": "ab77Wl-4KJI_"
      },
      "execution_count": 6,
      "outputs": []
    },
    {
      "cell_type": "code",
      "source": [
        "def display_image(orig, proj):\n",
        "\n",
        "    reshaped_orig = np.rot90(orig.reshape(32, 32), axes=(1, 0))\n",
        "    reshaped_proj = np.rot90(proj.reshape(32, 32), axes=(1, 0))\n",
        "    fig, (ax1, ax2) = plt.subplots(figsize=(9,3), ncols = 2)\n",
        "\n",
        "    ax1.set_title('Original')\n",
        "    ax2.set_title('Projection')\n",
        "\n",
        "    im1 = ax1.imshow(reshaped_orig, aspect='equal', cmap='viridis')\n",
        "    im2 = ax2.imshow(reshaped_proj, aspect='equal', cmap='viridis')\n",
        "    fig.colorbar(im1, ax = ax1)\n",
        "    fig.colorbar(im2, ax = ax2)\n",
        "    plt.show()\n",
        "\n",
        "    return fig, ax1, ax2"
      ],
      "metadata": {
        "id": "ihpsYOodKswP"
      },
      "execution_count": 7,
      "outputs": []
    },
    {
      "cell_type": "code",
      "source": [
        "x = load_and_center_dataset('YaleB_32x32.npy')\n",
        "S = get_covariance(x)\n",
        "Lambda, U = get_eig(S, 1024)\n",
        "projection = project_image(x[0], U)\n",
        "fig = display_image(x[0], projection)"
      ],
      "metadata": {
        "colab": {
          "base_uri": "https://localhost:8080/",
          "height": 314
        },
        "id": "-tqyMUNGKeF8",
        "outputId": "a77bff04-d00e-4e46-c921-22a7d7ff92b2"
      },
      "execution_count": 8,
      "outputs": [
        {
          "output_type": "display_data",
          "data": {
            "text/plain": [
              "<Figure size 900x300 with 4 Axes>"
            ],
            "image/png": "[encoded data removed]"
          },
          "metadata": {}
        }
      ]
    }
  ]
}